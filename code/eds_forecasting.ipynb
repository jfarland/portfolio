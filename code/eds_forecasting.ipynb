{
 "cells": [
  {
   "cell_type": "markdown",
   "metadata": {
    "heading_collapsed": true
   },
   "source": [
    "# Energy Data Science Experiment\n"
   ]
  },
  {
   "cell_type": "markdown",
   "metadata": {},
   "source": [
    "# Motivation\n",
    "\n",
    "Being able to accurately forecast the volatile demand for power, especially across low-voltage distribution grids, is increasingly important to providing sufficent energy supply. Paradoxically, it's at the low-voltage networks that are the most volatile, and yet the most critical to account for as more distributed energy resources (e.g., solar, storage) make their way onto the grid. From the grid operator's point of view, not only are lower voltage service points (e.g., customers) the revenue life blood of the business, having increased visibility into demand at such lower levels of aggregation helps to provide \n",
    "\n",
    "\n",
    "In this notebook, I explore looking at a Kaggle data set containing about 5,000 utility service points with time series data from advanced metering infrastructure (AMI). The context of this experiment is to simulate the needs of a utility or grid operator and generate accurate short-term (up to 7 days ahead) forecast. I explore possible approaches that involve\n",
    "\n",
    "- *Feature-based modeling approaches*\n",
    "- *Customer Segmentation + Clustering*\n",
    "- *Statistical methods, ML methods, and hybrid cross-learning approaches*\n",
    "\n",
    "Performance is evaluated using time-series cross-validation using a rolling 7-day forecast horizon.\n",
    "\n",
    "Finally, I show how this solution might be scaled and put into production.\n",
    "\n",
    "Keywords: *time series classification*, *energy forecasting*, *cross-learning*, *MLOps*\n"
   ]
  },
  {
   "cell_type": "code",
   "execution_count": 1,
   "metadata": {
    "ExecuteTime": {
     "end_time": "2021-08-23T05:50:46.340895Z",
     "start_time": "2021-08-23T05:50:35.716516Z"
    }
   },
   "outputs": [
    {
     "name": "stderr",
     "output_type": "stream",
     "text": [
      "Using TensorFlow backend.\n"
     ]
    }
   ],
   "source": [
    "# Import Dependencies\n",
    "\n",
    "### Utilities ###\n",
    "\n",
    "import os\n",
    "import glob\n",
    "from tqdm import tqdm\n",
    "\n",
    "### Data Processing ###\n",
    "\n",
    "import numpy as np\n",
    "import pandas as pd\n",
    "from datetime import datetime\n",
    "\n",
    "### PLOTTING ###\n",
    "\n",
    "%matplotlib inline\n",
    "import matplotlib as mpl\n",
    "import matplotlib.pyplot as plt\n",
    "mpl.rc('axes', labelsize=14)\n",
    "\n",
    "import seaborn as sns\n",
    "\n",
    "\n",
    "### DATA SCIENCE ###\n",
    "\n",
    "#import lightgbm as lgb\n",
    "import keras\n",
    "from sklearn.model_selection import train_test_split\n",
    "from sklearn.metrics import roc_auc_score, roc_curve, accuracy_score, confusion_matrix,classification_report\n",
    "from sklearn.model_selection import GridSearchCV,KFold,RandomizedSearchCV\n",
    "from scipy.stats import uniform, truncnorm, randint\n",
    "import random\n",
    "from functools import reduce\n",
    "\n",
    "import tsfeatures as tsfeatures\n"
   ]
  },
  {
   "cell_type": "code",
   "execution_count": 2,
   "metadata": {
    "ExecuteTime": {
     "end_time": "2021-08-23T05:50:46.350091Z",
     "start_time": "2021-08-23T05:50:46.343506Z"
    }
   },
   "outputs": [
    {
     "data": {
      "text/plain": [
       "'/workspace/portfolio/data'"
      ]
     },
     "execution_count": 2,
     "metadata": {},
     "output_type": "execute_result"
    }
   ],
   "source": [
    "# Set Project Working Directory\n",
    "project_path = '/workspace/portfolio'\n",
    "\n",
    "#os.getcwd()\n",
    "os.chdir(project_path)\n",
    "\n",
    "#os.environ\n",
    "#pd.set_option('display.max_columns', None)\n",
    "\n",
    "data_path = f\"{project_path}/data\"\n",
    "data_path\n",
    " \n",
    "# Read in Secure Credentials from Local File\n",
    "#with open('cred.json') as f:\n",
    "#  cred = json.load(f)\n",
    "\n",
    "# Set AWS Credentials\n",
    "#os.environ[\"AWS_ACCESS_KEY_ID\"] = cred['aws'].get(\"AWS_ACCESS_KEY_ID\")\n",
    "#os.environ[\"AWS_SECRET_ACCESS_KEY\"] = cred['aws'].get(\"AWS_SECRET_ACCESS_KEY\")\n",
    "\n",
    "# Set Twillio Credentials\n",
    "#os.environ[\"TWILIO_SID\"] = cred['twilio'].get(\"cred1\")\n",
    "#os.environ[\"TWILIO_TOKEN\"] = cred['twilio'].get(\"cred2\")\n",
    "#os.environ\n"
   ]
  },
  {
   "cell_type": "code",
   "execution_count": 3,
   "metadata": {
    "ExecuteTime": {
     "end_time": "2021-08-23T05:50:46.356623Z",
     "start_time": "2021-08-23T05:50:46.352555Z"
    }
   },
   "outputs": [
    {
     "data": {
      "text/plain": [
       "'/workspace/portfolio'"
      ]
     },
     "execution_count": 3,
     "metadata": {},
     "output_type": "execute_result"
    }
   ],
   "source": [
    "os.getcwd()\n"
   ]
  },
  {
   "cell_type": "code",
   "execution_count": 4,
   "metadata": {
    "ExecuteTime": {
     "end_time": "2021-08-23T05:50:46.361118Z",
     "start_time": "2021-08-23T05:50:46.358868Z"
    }
   },
   "outputs": [],
   "source": [
    "# need kaggle api key, stored in .kaggle/kaggle.json\n",
    "# kaggle datasets download -d jeanmidev/smart-meters-in-london\n"
   ]
  },
  {
   "cell_type": "code",
   "execution_count": 5,
   "metadata": {
    "ExecuteTime": {
     "end_time": "2021-08-23T05:51:13.317216Z",
     "start_time": "2021-08-23T05:50:46.363354Z"
    }
   },
   "outputs": [],
   "source": [
    "# Data \n",
    "\n",
    "#https://www.kaggle.com/jeanmidev/smart-meters-in-london\n",
    "\n",
    "#hh = pd.read_csv(data_path + \"halfhourly_dataset\")\n",
    "all_files = os.listdir(data_path + \"/hhblock_dataset/hhblock_dataset/\")\n",
    "\n",
    "df_from_each_file = (pd.read_csv(data_path + \"/hhblock_dataset/hhblock_dataset/\" + f, sep=',') for f in all_files)\n",
    "df_merged   = pd.concat(df_from_each_file, ignore_index=True)\n"
   ]
  },
  {
   "cell_type": "code",
   "execution_count": 6,
   "metadata": {
    "ExecuteTime": {
     "end_time": "2021-08-23T05:51:13.348317Z",
     "start_time": "2021-08-23T05:51:13.319421Z"
    }
   },
   "outputs": [
    {
     "data": {
      "text/html": [
       "<div>\n",
       "<style scoped>\n",
       "    .dataframe tbody tr th:only-of-type {\n",
       "        vertical-align: middle;\n",
       "    }\n",
       "\n",
       "    .dataframe tbody tr th {\n",
       "        vertical-align: top;\n",
       "    }\n",
       "\n",
       "    .dataframe thead th {\n",
       "        text-align: right;\n",
       "    }\n",
       "</style>\n",
       "<table border=\"1\" class=\"dataframe\">\n",
       "  <thead>\n",
       "    <tr style=\"text-align: right;\">\n",
       "      <th></th>\n",
       "      <th>LCLid</th>\n",
       "      <th>day</th>\n",
       "      <th>hh_0</th>\n",
       "      <th>hh_1</th>\n",
       "      <th>hh_2</th>\n",
       "      <th>hh_3</th>\n",
       "      <th>hh_4</th>\n",
       "      <th>hh_5</th>\n",
       "      <th>hh_6</th>\n",
       "      <th>hh_7</th>\n",
       "      <th>...</th>\n",
       "      <th>hh_38</th>\n",
       "      <th>hh_39</th>\n",
       "      <th>hh_40</th>\n",
       "      <th>hh_41</th>\n",
       "      <th>hh_42</th>\n",
       "      <th>hh_43</th>\n",
       "      <th>hh_44</th>\n",
       "      <th>hh_45</th>\n",
       "      <th>hh_46</th>\n",
       "      <th>hh_47</th>\n",
       "    </tr>\n",
       "  </thead>\n",
       "  <tbody>\n",
       "    <tr>\n",
       "      <th>0</th>\n",
       "      <td>MAC000013</td>\n",
       "      <td>2012-06-22</td>\n",
       "      <td>0.127</td>\n",
       "      <td>0.113</td>\n",
       "      <td>0.076</td>\n",
       "      <td>0.109</td>\n",
       "      <td>0.120</td>\n",
       "      <td>0.096</td>\n",
       "      <td>0.113</td>\n",
       "      <td>0.148</td>\n",
       "      <td>...</td>\n",
       "      <td>0.086</td>\n",
       "      <td>0.154</td>\n",
       "      <td>0.121</td>\n",
       "      <td>0.102</td>\n",
       "      <td>0.131</td>\n",
       "      <td>0.121</td>\n",
       "      <td>0.082</td>\n",
       "      <td>0.096</td>\n",
       "      <td>0.127</td>\n",
       "      <td>0.126</td>\n",
       "    </tr>\n",
       "    <tr>\n",
       "      <th>1</th>\n",
       "      <td>MAC000013</td>\n",
       "      <td>2012-06-23</td>\n",
       "      <td>0.106</td>\n",
       "      <td>0.135</td>\n",
       "      <td>0.228</td>\n",
       "      <td>0.079</td>\n",
       "      <td>0.109</td>\n",
       "      <td>0.117</td>\n",
       "      <td>0.079</td>\n",
       "      <td>0.122</td>\n",
       "      <td>...</td>\n",
       "      <td>0.107</td>\n",
       "      <td>0.113</td>\n",
       "      <td>0.106</td>\n",
       "      <td>0.077</td>\n",
       "      <td>0.119</td>\n",
       "      <td>0.126</td>\n",
       "      <td>0.151</td>\n",
       "      <td>0.135</td>\n",
       "      <td>0.108</td>\n",
       "      <td>0.093</td>\n",
       "    </tr>\n",
       "    <tr>\n",
       "      <th>2</th>\n",
       "      <td>MAC000013</td>\n",
       "      <td>2012-06-25</td>\n",
       "      <td>0.099</td>\n",
       "      <td>0.119</td>\n",
       "      <td>0.169</td>\n",
       "      <td>0.136</td>\n",
       "      <td>0.109</td>\n",
       "      <td>0.090</td>\n",
       "      <td>0.132</td>\n",
       "      <td>0.131</td>\n",
       "      <td>...</td>\n",
       "      <td>0.140</td>\n",
       "      <td>0.135</td>\n",
       "      <td>0.134</td>\n",
       "      <td>0.106</td>\n",
       "      <td>0.131</td>\n",
       "      <td>0.169</td>\n",
       "      <td>0.170</td>\n",
       "      <td>0.141</td>\n",
       "      <td>0.163</td>\n",
       "      <td>0.137</td>\n",
       "    </tr>\n",
       "    <tr>\n",
       "      <th>3</th>\n",
       "      <td>MAC000013</td>\n",
       "      <td>2012-06-26</td>\n",
       "      <td>0.142</td>\n",
       "      <td>0.103</td>\n",
       "      <td>0.117</td>\n",
       "      <td>0.136</td>\n",
       "      <td>0.127</td>\n",
       "      <td>0.129</td>\n",
       "      <td>0.150</td>\n",
       "      <td>0.137</td>\n",
       "      <td>...</td>\n",
       "      <td>0.136</td>\n",
       "      <td>0.136</td>\n",
       "      <td>0.304</td>\n",
       "      <td>0.159</td>\n",
       "      <td>0.126</td>\n",
       "      <td>0.145</td>\n",
       "      <td>0.196</td>\n",
       "      <td>0.158</td>\n",
       "      <td>0.173</td>\n",
       "      <td>0.149</td>\n",
       "    </tr>\n",
       "    <tr>\n",
       "      <th>4</th>\n",
       "      <td>MAC000013</td>\n",
       "      <td>2012-06-27</td>\n",
       "      <td>0.126</td>\n",
       "      <td>0.128</td>\n",
       "      <td>0.175</td>\n",
       "      <td>0.163</td>\n",
       "      <td>0.119</td>\n",
       "      <td>0.103</td>\n",
       "      <td>0.128</td>\n",
       "      <td>0.141</td>\n",
       "      <td>...</td>\n",
       "      <td>0.170</td>\n",
       "      <td>0.144</td>\n",
       "      <td>0.098</td>\n",
       "      <td>0.183</td>\n",
       "      <td>0.316</td>\n",
       "      <td>0.190</td>\n",
       "      <td>0.121</td>\n",
       "      <td>0.176</td>\n",
       "      <td>0.158</td>\n",
       "      <td>0.146</td>\n",
       "    </tr>\n",
       "  </tbody>\n",
       "</table>\n",
       "<p>5 rows × 50 columns</p>\n",
       "</div>"
      ],
      "text/plain": [
       "       LCLid         day   hh_0   hh_1   hh_2   hh_3   hh_4   hh_5   hh_6  \\\n",
       "0  MAC000013  2012-06-22  0.127  0.113  0.076  0.109  0.120  0.096  0.113   \n",
       "1  MAC000013  2012-06-23  0.106  0.135  0.228  0.079  0.109  0.117  0.079   \n",
       "2  MAC000013  2012-06-25  0.099  0.119  0.169  0.136  0.109  0.090  0.132   \n",
       "3  MAC000013  2012-06-26  0.142  0.103  0.117  0.136  0.127  0.129  0.150   \n",
       "4  MAC000013  2012-06-27  0.126  0.128  0.175  0.163  0.119  0.103  0.128   \n",
       "\n",
       "    hh_7  ...  hh_38  hh_39  hh_40  hh_41  hh_42  hh_43  hh_44  hh_45  hh_46  \\\n",
       "0  0.148  ...  0.086  0.154  0.121  0.102  0.131  0.121  0.082  0.096  0.127   \n",
       "1  0.122  ...  0.107  0.113  0.106  0.077  0.119  0.126  0.151  0.135  0.108   \n",
       "2  0.131  ...  0.140  0.135  0.134  0.106  0.131  0.169  0.170  0.141  0.163   \n",
       "3  0.137  ...  0.136  0.136  0.304  0.159  0.126  0.145  0.196  0.158  0.173   \n",
       "4  0.141  ...  0.170  0.144  0.098  0.183  0.316  0.190  0.121  0.176  0.158   \n",
       "\n",
       "   hh_47  \n",
       "0  0.126  \n",
       "1  0.093  \n",
       "2  0.137  \n",
       "3  0.149  \n",
       "4  0.146  \n",
       "\n",
       "[5 rows x 50 columns]"
      ]
     },
     "execution_count": 6,
     "metadata": {},
     "output_type": "execute_result"
    }
   ],
   "source": [
    "df_merged.head()"
   ]
  },
  {
   "cell_type": "code",
   "execution_count": 7,
   "metadata": {
    "ExecuteTime": {
     "end_time": "2021-08-23T05:51:14.020279Z",
     "start_time": "2021-08-23T05:51:13.350223Z"
    }
   },
   "outputs": [
    {
     "name": "stdout",
     "output_type": "stream",
     "text": [
      "(3469352, 50)\n",
      "<bound method NDFrame.describe of              LCLid         day   hh_0   hh_1   hh_2   hh_3   hh_4   hh_5  \\\n",
      "0        MAC000013  2012-06-22  0.127  0.113  0.076  0.109  0.120  0.096   \n",
      "1        MAC000013  2012-06-23  0.106  0.135  0.228  0.079  0.109  0.117   \n",
      "2        MAC000013  2012-06-25  0.099  0.119  0.169  0.136  0.109  0.090   \n",
      "3        MAC000013  2012-06-26  0.142  0.103  0.117  0.136  0.127  0.129   \n",
      "4        MAC000013  2012-06-27  0.126  0.128  0.175  0.163  0.119  0.103   \n",
      "...            ...         ...    ...    ...    ...    ...    ...    ...   \n",
      "3469347  MAC005387  2014-02-23  0.686  0.070  0.145  0.056  0.035  0.034   \n",
      "3469348  MAC005387  2014-02-24  0.137  0.107  0.086  0.044  0.042  0.058   \n",
      "3469349  MAC005387  2014-02-25  0.116  0.135  0.048  0.046  0.074  0.096   \n",
      "3469350  MAC005387  2014-02-26  0.113  0.051  0.042  0.083  0.077  0.037   \n",
      "3469351  MAC005387  2014-02-27  0.044  0.038  0.046  0.095  0.044  0.035   \n",
      "\n",
      "          hh_6   hh_7  ...  hh_38  hh_39  hh_40  hh_41  hh_42  hh_43  hh_44  \\\n",
      "0        0.113  0.148  ...  0.086  0.154  0.121  0.102  0.131  0.121  0.082   \n",
      "1        0.079  0.122  ...  0.107  0.113  0.106  0.077  0.119  0.126  0.151   \n",
      "2        0.132  0.131  ...  0.140  0.135  0.134  0.106  0.131  0.169  0.170   \n",
      "3        0.150  0.137  ...  0.136  0.136  0.304  0.159  0.126  0.145  0.196   \n",
      "4        0.128  0.141  ...  0.170  0.144  0.098  0.183  0.316  0.190  0.121   \n",
      "...        ...    ...  ...    ...    ...    ...    ...    ...    ...    ...   \n",
      "3469347  0.094  0.055  ...  0.558  1.487  1.243  0.352  0.292  0.221  0.460   \n",
      "3469348  0.098  0.045  ...  0.142  0.130  0.240  0.196  0.157  0.206  0.315   \n",
      "3469349  0.042  0.043  ...  0.189  0.244  0.148  0.127  0.116  0.170  0.221   \n",
      "3469350  0.035  0.050  ...  0.222  0.227  0.188  0.192  0.226  0.240  0.226   \n",
      "3469351  0.035  0.076  ...  0.174  0.171  0.118  0.113  0.111  0.168  0.135   \n",
      "\n",
      "         hh_45  hh_46  hh_47  \n",
      "0        0.096  0.127  0.126  \n",
      "1        0.135  0.108  0.093  \n",
      "2        0.141  0.163  0.137  \n",
      "3        0.158  0.173  0.149  \n",
      "4        0.176  0.158  0.146  \n",
      "...        ...    ...    ...  \n",
      "3469347  1.518  0.653  0.212  \n",
      "3469348  0.356  0.089  0.072  \n",
      "3469349  0.200  0.300  0.229  \n",
      "3469350  0.136  0.160  0.163  \n",
      "3469351  0.115  0.113  0.155  \n",
      "\n",
      "[3469352 rows x 50 columns]>\n"
     ]
    }
   ],
   "source": [
    "print(df_merged.shape)\n",
    "print(df_merged.describe)"
   ]
  },
  {
   "cell_type": "code",
   "execution_count": 8,
   "metadata": {
    "ExecuteTime": {
     "end_time": "2021-08-23T05:51:32.552680Z",
     "start_time": "2021-08-23T05:51:14.023133Z"
    }
   },
   "outputs": [
    {
     "data": {
      "text/plain": [
       "<matplotlib.collections.PathCollection at 0x7f542ef1d890>"
      ]
     },
     "execution_count": 8,
     "metadata": {},
     "output_type": "execute_result"
    },
    {
     "data": {
      "image/png": "[encoded data removed]",
      "text/plain": [
       "<Figure size 432x288 with 1 Axes>"
      ]
     },
     "metadata": {
      "needs_background": "light"
     },
     "output_type": "display_data"
    }
   ],
   "source": [
    "fig, ax = plt.subplots()\n",
    "ax.scatter(df_merged[\"day\"], df_merged[\"hh_0\"])\n"
   ]
  },
  {
   "cell_type": "code",
   "execution_count": null,
   "metadata": {
    "ExecuteTime": {
     "start_time": "2021-08-23T05:50:35.654Z"
    }
   },
   "outputs": [],
   "source": [
    "#df = df_merged[df_merged['LCLid'] == 'MAC000027']\n",
    "#df.head()\n",
    "\n",
    "## Tranpose from wide to long\n",
    "\n",
    "df = pd.wide_to_long(df_merged, stubnames = \"hh_\", i = ['day', 'LCLid'], j = \"hh\").sort_values([\"day\", \"hh\"]).reset_index()\n",
    "\n",
    "#df.columns.values\n",
    "#df.shape\n",
    "\n",
    "#ax.plot(df0[\"hh_\"])\n",
    "fig, ax = plt.subplots()\n",
    "ax.plot(df[\"hh\"], df[\"hh_\"])\n"
   ]
  },
  {
   "cell_type": "code",
   "execution_count": null,
   "metadata": {
    "ExecuteTime": {
     "start_time": "2021-08-23T05:50:35.656Z"
    }
   },
   "outputs": [],
   "source": [
    "# import time lookup\n",
    "lookup = pd.read_csv(data_path + \"/time-lookup.csv\", sep = \",\")\n",
    "lookup.head()"
   ]
  },
  {
   "cell_type": "code",
   "execution_count": null,
   "metadata": {
    "ExecuteTime": {
     "end_time": "2021-08-22T02:22:31.380548Z",
     "start_time": "2021-08-22T02:22:22.863Z"
    }
   },
   "outputs": [],
   "source": [
    "df = df.sort_values([\"LCLid\", \"day\", \"hh\"])\n",
    "df = df.join(lookup.set_index(\"hh\"), how = \"left\", on = \"hh\")\n",
    "df.head()"
   ]
  },
  {
   "cell_type": "code",
   "execution_count": null,
   "metadata": {
    "ExecuteTime": {
     "end_time": "2021-08-22T02:22:31.381675Z",
     "start_time": "2021-08-22T02:22:22.864Z"
    }
   },
   "outputs": [],
   "source": [
    "df[\"timestamp\"] = pd.to_\n",
    "datetime(df['day'] + \" \" + df['time'])"
   ]
  },
  {
   "cell_type": "code",
   "execution_count": null,
   "metadata": {},
   "outputs": [],
   "source": [
    "print(df.shape)\n",
    "print(df.head())"
   ]
  },
  {
   "cell_type": "code",
   "execution_count": null,
   "metadata": {},
   "outputs": [],
   "source": [
    "df = df.drop([\"day\", \"hh\", \"time\"], axis = 1)\n",
    "df.head()"
   ]
  },
  {
   "cell_type": "code",
   "execution_count": null,
   "metadata": {},
   "outputs": [],
   "source": [
    "df.columns = [\"id\", \"kwh\", \"timestamp\"]\n",
    "df.head()"
   ]
  },
  {
   "cell_type": "code",
   "execution_count": null,
   "metadata": {},
   "outputs": [],
   "source": [
    "df_wide = df.pivot(index = \"timestamp\", columns = 'id', values = 'kwh')\n",
    "\n",
    "df_wide.head()"
   ]
  },
  {
   "cell_type": "code",
   "execution_count": null,
   "metadata": {},
   "outputs": [],
   "source": [
    "df_wide = df_wide.to_numpy()\n",
    "df_wide[np.isnan(df_wide)] = 0"
   ]
  },
  {
   "cell_type": "code",
   "execution_count": null,
   "metadata": {},
   "outputs": [],
   "source": [
    "print(df_wide.shape)\n",
    "print(np.transpose(df_wide).shape)"
   ]
  },
  {
   "cell_type": "code",
   "execution_count": null,
   "metadata": {},
   "outputs": [],
   "source": [
    "series = np.transpose(df_wide)\n",
    "X_train, y_train = series[:4500, :39695], series[:4500, -1]\n",
    "X_valid, y_valid = series[4500:5000, :39695], series[4500:5000, -1]\n",
    "X_test, y_test = series[5000:, :39695], series[5000:, -1]"
   ]
  },
  {
   "cell_type": "code",
   "execution_count": null,
   "metadata": {},
   "outputs": [],
   "source": [
    "X_train, y_train = X_train[~np.isnan(X_train)], y_train[~np.isnan(y_train)]\n",
    "X_valid, y_valid = X_valid[~np.isnan(X_valid)], y_valid[~np.isnan(y_valid)]\n",
    "X_test, y_test = X_test[~np.isnan(X_test)], y_test[~np.isnan(y_test)]"
   ]
  },
  {
   "cell_type": "code",
   "execution_count": null,
   "metadata": {},
   "outputs": [],
   "source": [
    "y_pred = X_valid[:, -1]\n",
    "np.mean(keras.losses.mean_squared_error(y_valid[~np.isnan(y_valid)], y_pred[~np.isnan(y_pred)]))"
   ]
  },
  {
   "cell_type": "code",
   "execution_count": null,
   "metadata": {},
   "outputs": [],
   "source": [
    "import tensorflow as tf\n",
    "np.random.seed(42)\n",
    "tf.random.set_seed(42)\n",
    "\n",
    "model = keras.models.Sequential([\n",
    "    keras.layers.Flatten(input_shape=[39695, 1]),\n",
    "    keras.layers.Dense(1)\n",
    "])\n",
    "\n",
    "model.compile(loss=\"mse\", optimizer=\"adam\")\n",
    "history = model.fit(X_train, y_train, epochs=100,\n",
    "                    validation_data=(X_valid, y_valid))"
   ]
  },
  {
   "cell_type": "code",
   "execution_count": null,
   "metadata": {},
   "outputs": [],
   "source": [
    "model.evaluate(X_valid, y_valid)"
   ]
  },
  {
   "cell_type": "code",
   "execution_count": null,
   "metadata": {},
   "outputs": [],
   "source": [
    "def plot_learning_curves(loss, val_loss):\n",
    "    plt.plot(np.arange(len(loss)) + 0.5, loss, \"b.-\", label=\"Training loss\")\n",
    "    plt.plot(np.arange(len(val_loss)) + 1, val_loss, \"r.-\", label=\"Validation loss\")\n",
    "    plt.gca().xaxis.set_major_locator(mpl.ticker.MaxNLocator(integer=True))\n",
    "    plt.axis([1, 100, 0, 30])\n",
    "    plt.legend(fontsize=14)\n",
    "    plt.xlabel(\"Epochs\")\n",
    "    plt.ylabel(\"Loss\")\n",
    "    plt.grid(True)\n",
    "\n",
    "plot_learning_curves(history.history[\"loss\"], history.history[\"val_loss\"])\n",
    "plt.show()"
   ]
  },
  {
   "cell_type": "code",
   "execution_count": null,
   "metadata": {},
   "outputs": [],
   "source": [
    "y_pred = model.predict(X_valid)\n",
    "plot_series(X_valid[0, :, 0], y_valid[0, 0], y_pred[0, 0])\n",
    "plt.show()"
   ]
  },
  {
   "cell_type": "code",
   "execution_count": null,
   "metadata": {},
   "outputs": [],
   "source": [
    "np.random.seed(42)\n",
    "tf.random.set_seed(42)\n",
    "\n",
    "model = keras.models.Sequential([\n",
    "    keras.layers.SimpleRNN(1, input_shape=[None, 1])\n",
    "])\n",
    "\n",
    "optimizer = keras.optimizers.Adam(learning_rate=0.005)\n",
    "model.compile(loss=\"mse\", optimizer=optimizer)\n",
    "history = model.fit(X_train, y_train, epochs=30,\n",
    "                    validation_data=(X_valid, y_valid))"
   ]
  },
  {
   "cell_type": "code",
   "execution_count": null,
   "metadata": {},
   "outputs": [],
   "source": [
    "# Unique Number of Sensor meters\n",
    "ids = pd.DataFrame(df_merged['LCLid'].unique()).sample(n = 1000)\n",
    "ids.columns = ['id']\n",
    "\n",
    "df = df.loc[df['LCLid'].isin(ids[\"id\"])]\n",
    "df.head()\n"
   ]
  },
  {
   "cell_type": "code",
   "execution_count": null,
   "metadata": {},
   "outputs": [],
   "source": [
    "#df = df_merged[df_merged['LCLid'] == 'MAC000027']\n",
    "#df.head()\n",
    "\n",
    "df0 = pd.wide_to_long(df_merged, stubnames = \"hh_\", i = ['day', 'LCLid'], j = \"hh\").sort_values([\"day\", \"hh\"])\n",
    "df = df0.reset_index()\n",
    "\n",
    "#df.columns.values\n",
    "df.shape\n",
    "\n",
    "#ax.plot(df0[\"hh_\"])\n",
    "#fig, ax = plt.subplots()\n",
    "#ax.scatter(df[\"hh\"], df[\"hh_\"])"
   ]
  },
  {
   "cell_type": "code",
   "execution_count": null,
   "metadata": {},
   "outputs": [],
   "source": [
    "df_wide = df.pivot(index = \"timestamp\", columns = 'id', values = 'usage')"
   ]
  },
  {
   "cell_type": "code",
   "execution_count": null,
   "metadata": {},
   "outputs": [],
   "source": [
    "def generate_time_series(batch_size, n_steps):\n",
    "    freq1, freq2, offsets1, offsets2 = np.random.rand(4, batch_size, 1)\n",
    "    time = np.linspace(0, 1, n_steps)\n",
    "    series = 0.5 * np.sin((time - offsets1) * (freq1 * 10 + 10))  #   wave 1\n",
    "    series += 0.2 * np.sin((time - offsets2) * (freq2 * 20 + 20)) # + wave 2\n",
    "    series += 0.1 * (np.random.rand(batch_size, n_steps) - 0.5)   # + noise\n",
    "    return series[..., np.newaxis].astype(np.float32)"
   ]
  },
  {
   "cell_type": "code",
   "execution_count": null,
   "metadata": {},
   "outputs": [],
   "source": [
    "np.random.seed(42)\n",
    "\n",
    "n_steps = 50\n",
    "series = generate_time_series(10000, n_steps + 1)\n",
    "X_train, y_train = series[:7000, :n_steps], series[:7000, -1]\n",
    "X_valid, y_valid = series[7000:9000, :n_steps], series[7000:9000, -1]\n",
    "X_test, y_test = series[9000:, :n_steps], series[9000:, -1]\n",
    "\n",
    "\n"
   ]
  },
  {
   "cell_type": "code",
   "execution_count": null,
   "metadata": {},
   "outputs": [],
   "source": [
    "##############################\n",
    "### User Defined Functions ###\n",
    "##############################\n",
    "\n",
    "# Define a function to recursively flatten JSON object\n",
    "def flatten_json(y):\n",
    "    out = {}\n",
    "\n",
    "    def flatten(x, name=''):\n",
    "        if type(x) is dict:\n",
    "            for a in x:\n",
    "                flatten(x[a], name + a + '_')\n",
    "        elif type(x) is list:\n",
    "            i = 0\n",
    "            for a in x:\n",
    "                flatten(a, name + str(i) + '_')\n",
    "                i += 1\n",
    "        else:\n",
    "            out[name[:-1]] = x\n",
    "\n",
    "    flatten(y)\n",
    "    return out\n",
    "\n",
    "# Define a function to process each JSON record\n",
    "def process_row(x):\n",
    "    input_json = json.loads(x)\n",
    "    flat_json = flatten_json(input_json)\n",
    "    flat_df = pd.DataFrame.from_dict(flat_json, orient = \"index\").T\n",
    "    return flat_df\n",
    "\n",
    "# Define a function process an entire file\n",
    "def process_file(filename, destination = \"data/processed/\"):\n",
    "\tdf = pd.read_excel(filename)\n",
    "\n",
    "\t# Extract Participant ID\n",
    "\tpid = df.participant_id.iloc[0]\n",
    "\n",
    "\t# Split data based on data category\n",
    "\tops_data = df[df['data_category'] == 'Operational']\n",
    "\tconf_data = df[df['data_category'] == 'Configuration']\n",
    "\n",
    "\t# Use List Comprehension to apply function to each row\n",
    "\tlist_output = [process_row(x) for x in tqdm(ops_data['hvac'])]\n",
    "\n",
    "\t# Concatenate list output to produce data frame\n",
    "\tdf_output = pd.concat(list_output, ignore_index = True)\n",
    "\n",
    "\t# Concatenate Processed JSON with IDs\n",
    "\toutput = pd.concat((ops_data.drop(['hvac'], axis = 1).reset_index(), df_output), axis=1)\n",
    "\n",
    "\t# Establish Output File Name\n",
    "\toutput_file_name = destination + pid + '-ops.csv'\n",
    "\n",
    "\t# Writeout operational data\n",
    "\toutput.to_csv(output_file_name)\n",
    "\n",
    "\t# Use List Comprehension to apply function to each row\n",
    "\tlist_output = [process_row(x) for x in tqdm(conf_data['hvac'])]\n",
    "\n",
    "\t# Concatenate list output to produce data frame\n",
    "\tdf_output = pd.concat(list_output, ignore_index = True)\n",
    "\n",
    "\t# Concatenate Processed JSON with IDs\n",
    "\toutput = pd.concat((conf_data.drop(['hvac'], axis = 1).reset_index(), df_output), axis=1)\n",
    "\n",
    "\t# Establish Output File Name\n",
    "\toutput_file_name = destination + pid + '-config.csv'\n",
    "\n",
    "\t# Writeout configuration data data\n",
    "\toutput.to_csv(output_file_name)\n",
    "\n",
    "\n",
    "# list files in current directory\n",
    "directory = os.getcwd()\n",
    "\n",
    "# iterate over files in current directory and process them\n",
    "\n",
    "for filename in os.listdir(directory):\n",
    "    if filename.endswith(\".xlsx\"):\n",
    "        try:\n",
    "        \tprint(\"Processing File: \" + filename)\n",
    "        \tprocess_file(filename, destination = \"/Users/jonfarland/Documents/projects/APC/data/processed/\")\n",
    "        except:\n",
    "        \tprint(\"Error Processing File: \" + filename)\n",
    "    else:\n",
    "        continue\n"
   ]
  },
  {
   "cell_type": "code",
   "execution_count": null,
   "metadata": {},
   "outputs": [],
   "source": []
  }
 ],
 "metadata": {
  "kernelspec": {
   "display_name": "datastar",
   "language": "python",
   "name": "datastar"
  },
  "language_info": {
   "codemirror_mode": {
    "name": "ipython",
    "version": 3
   },
   "file_extension": ".py",
   "mimetype": "text/x-python",
   "name": "python",
   "nbconvert_exporter": "python",
   "pygments_lexer": "ipython3",
   "version": "3.7.7"
  },
  "toc": {
   "base_numbering": 1,
   "nav_menu": {},
   "number_sections": false,
   "sideBar": true,
   "skip_h1_title": false,
   "title_cell": "Table of Contents",
   "title_sidebar": "Contents",
   "toc_cell": false,
   "toc_position": {},
   "toc_section_display": true,
   "toc_window_display": false
  }
 },
 "nbformat": 4,
 "nbformat_minor": 4
}
