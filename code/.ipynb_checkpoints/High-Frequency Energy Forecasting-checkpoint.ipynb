{
 "cells": [
  {
   "cell_type": "markdown",
   "metadata": {},
   "source": [
    "# Motivation\n",
    "\n",
    "Being able to accurately forecast the volatile demand for power, especially across low-voltage distribution grids, is increasingly important to providing sufficent energy supply. Paradoxically, it's at the low-voltage networks that are the most volatile, and yet the most critical to account for as more distributed energy resources (e.g., solar, storage) make their way onto the grid. From the grid operator's point of view, not only are lower voltage service points (e.g., customers) the revenue life blood of the business, having increased visibility into demand at such lower levels of aggregation helps to provide \n",
    "\n",
    "\n",
    "In this notebook, I explore looking at a [Kaggle data set](https://www.kaggle.com/jeanmidev/smart-meters-in-london) containing about 5,000 utility service points with time series data from advanced metering infrastructure (AMI). The context of this experiment is to simulate the needs of a utility or grid operator and generate accurate short-term (up to 7 days ahead) forecast. I explore possible approaches that involve\n",
    "\n",
    "- *Feature-based modeling approaches*\n",
    "- *Customer Segmentation + Clustering*\n",
    "- *Statistical methods, ML methods, and hybrid cross-learning approaches*\n",
    "\n",
    "Performance is evaluated using time-series cross-validation using a rolling 7-day forecast horizon.\n",
    "\n",
    "Finally, I show how this solution might be scaled and put into production.\n",
    "\n",
    "Keywords: *time series classification*, *energy forecasting*, *cross-learning*, *MLOps*\n"
   ]
  },
  {
   "cell_type": "code",
   "execution_count": 1,
   "metadata": {
    "ExecuteTime": {
     "end_time": "2021-09-30T23:12:41.283745Z",
     "start_time": "2021-09-30T23:12:37.259805Z"
    }
   },
   "outputs": [
    {
     "name": "stderr",
     "output_type": "stream",
     "text": [
      "Using TensorFlow backend.\n"
     ]
    }
   ],
   "source": [
    "import pandas as pd\n",
    "import numpy as np\n",
    "\n",
    "import matplotlib.pyplot as plt\n",
    "import seaborn as sns\n",
    "%matplotlib inline\n",
    "\n",
    "\n",
    "import os\n",
    "from tqdm import tqdm\n",
    "\n",
    "import keras\n",
    "import tensorflow\n",
    "#from tsfeatures import tsfeatures"
   ]
  },
  {
   "cell_type": "code",
   "execution_count": 2,
   "metadata": {
    "ExecuteTime": {
     "end_time": "2021-09-30T23:12:41.299819Z",
     "start_time": "2021-09-30T23:12:41.287564Z"
    }
   },
   "outputs": [
    {
     "data": {
      "text/plain": [
       "'/workspace/portfolio/data'"
      ]
     },
     "execution_count": 2,
     "metadata": {},
     "output_type": "execute_result"
    }
   ],
   "source": [
    "# Set Project Working Directory\n",
    "project_path = '/workspace/portfolio'\n",
    "\n",
    "os.chdir(project_path)\n",
    "\n",
    "# Set Data Path\n",
    "data_path = f\"{project_path}/data\"\n",
    "data_path"
   ]
  },
  {
   "cell_type": "markdown",
   "metadata": {},
   "source": [
    "# Data\n",
    "\n",
    "The data set we will use contains high-frequency measures of electricity demand usage across a panel of approximately 5,000 homes. It also contains customer metadata from the [ACORN](https://acorn.caci.co.uk/downloads/Acorn-User-guide.pdf) network, as well as atmospheric weather data from the DarkSky API (now owned by Apple and will be sunset by 2022)."
   ]
  },
  {
   "cell_type": "code",
   "execution_count": 3,
   "metadata": {
    "ExecuteTime": {
     "end_time": "2021-09-30T23:13:32.995365Z",
     "start_time": "2021-09-30T23:12:41.307423Z"
    }
   },
   "outputs": [
    {
     "data": {
      "text/html": [
       "<div>\n",
       "<style scoped>\n",
       "    .dataframe tbody tr th:only-of-type {\n",
       "        vertical-align: middle;\n",
       "    }\n",
       "\n",
       "    .dataframe tbody tr th {\n",
       "        vertical-align: top;\n",
       "    }\n",
       "\n",
       "    .dataframe thead th {\n",
       "        text-align: right;\n",
       "    }\n",
       "</style>\n",
       "<table border=\"1\" class=\"dataframe\">\n",
       "  <thead>\n",
       "    <tr style=\"text-align: right;\">\n",
       "      <th></th>\n",
       "      <th>LCLid</th>\n",
       "      <th>day</th>\n",
       "      <th>hh_0</th>\n",
       "      <th>hh_1</th>\n",
       "      <th>hh_2</th>\n",
       "      <th>hh_3</th>\n",
       "      <th>hh_4</th>\n",
       "      <th>hh_5</th>\n",
       "      <th>hh_6</th>\n",
       "      <th>hh_7</th>\n",
       "      <th>...</th>\n",
       "      <th>hh_38</th>\n",
       "      <th>hh_39</th>\n",
       "      <th>hh_40</th>\n",
       "      <th>hh_41</th>\n",
       "      <th>hh_42</th>\n",
       "      <th>hh_43</th>\n",
       "      <th>hh_44</th>\n",
       "      <th>hh_45</th>\n",
       "      <th>hh_46</th>\n",
       "      <th>hh_47</th>\n",
       "    </tr>\n",
       "  </thead>\n",
       "  <tbody>\n",
       "    <tr>\n",
       "      <th>0</th>\n",
       "      <td>MAC000013</td>\n",
       "      <td>2012-06-22</td>\n",
       "      <td>0.127</td>\n",
       "      <td>0.113</td>\n",
       "      <td>0.076</td>\n",
       "      <td>0.109</td>\n",
       "      <td>0.120</td>\n",
       "      <td>0.096</td>\n",
       "      <td>0.113</td>\n",
       "      <td>0.148</td>\n",
       "      <td>...</td>\n",
       "      <td>0.086</td>\n",
       "      <td>0.154</td>\n",
       "      <td>0.121</td>\n",
       "      <td>0.102</td>\n",
       "      <td>0.131</td>\n",
       "      <td>0.121</td>\n",
       "      <td>0.082</td>\n",
       "      <td>0.096</td>\n",
       "      <td>0.127</td>\n",
       "      <td>0.126</td>\n",
       "    </tr>\n",
       "    <tr>\n",
       "      <th>1</th>\n",
       "      <td>MAC000013</td>\n",
       "      <td>2012-06-23</td>\n",
       "      <td>0.106</td>\n",
       "      <td>0.135</td>\n",
       "      <td>0.228</td>\n",
       "      <td>0.079</td>\n",
       "      <td>0.109</td>\n",
       "      <td>0.117</td>\n",
       "      <td>0.079</td>\n",
       "      <td>0.122</td>\n",
       "      <td>...</td>\n",
       "      <td>0.107</td>\n",
       "      <td>0.113</td>\n",
       "      <td>0.106</td>\n",
       "      <td>0.077</td>\n",
       "      <td>0.119</td>\n",
       "      <td>0.126</td>\n",
       "      <td>0.151</td>\n",
       "      <td>0.135</td>\n",
       "      <td>0.108</td>\n",
       "      <td>0.093</td>\n",
       "    </tr>\n",
       "    <tr>\n",
       "      <th>2</th>\n",
       "      <td>MAC000013</td>\n",
       "      <td>2012-06-25</td>\n",
       "      <td>0.099</td>\n",
       "      <td>0.119</td>\n",
       "      <td>0.169</td>\n",
       "      <td>0.136</td>\n",
       "      <td>0.109</td>\n",
       "      <td>0.090</td>\n",
       "      <td>0.132</td>\n",
       "      <td>0.131</td>\n",
       "      <td>...</td>\n",
       "      <td>0.140</td>\n",
       "      <td>0.135</td>\n",
       "      <td>0.134</td>\n",
       "      <td>0.106</td>\n",
       "      <td>0.131</td>\n",
       "      <td>0.169</td>\n",
       "      <td>0.170</td>\n",
       "      <td>0.141</td>\n",
       "      <td>0.163</td>\n",
       "      <td>0.137</td>\n",
       "    </tr>\n",
       "    <tr>\n",
       "      <th>3</th>\n",
       "      <td>MAC000013</td>\n",
       "      <td>2012-06-26</td>\n",
       "      <td>0.142</td>\n",
       "      <td>0.103</td>\n",
       "      <td>0.117</td>\n",
       "      <td>0.136</td>\n",
       "      <td>0.127</td>\n",
       "      <td>0.129</td>\n",
       "      <td>0.150</td>\n",
       "      <td>0.137</td>\n",
       "      <td>...</td>\n",
       "      <td>0.136</td>\n",
       "      <td>0.136</td>\n",
       "      <td>0.304</td>\n",
       "      <td>0.159</td>\n",
       "      <td>0.126</td>\n",
       "      <td>0.145</td>\n",
       "      <td>0.196</td>\n",
       "      <td>0.158</td>\n",
       "      <td>0.173</td>\n",
       "      <td>0.149</td>\n",
       "    </tr>\n",
       "    <tr>\n",
       "      <th>4</th>\n",
       "      <td>MAC000013</td>\n",
       "      <td>2012-06-27</td>\n",
       "      <td>0.126</td>\n",
       "      <td>0.128</td>\n",
       "      <td>0.175</td>\n",
       "      <td>0.163</td>\n",
       "      <td>0.119</td>\n",
       "      <td>0.103</td>\n",
       "      <td>0.128</td>\n",
       "      <td>0.141</td>\n",
       "      <td>...</td>\n",
       "      <td>0.170</td>\n",
       "      <td>0.144</td>\n",
       "      <td>0.098</td>\n",
       "      <td>0.183</td>\n",
       "      <td>0.316</td>\n",
       "      <td>0.190</td>\n",
       "      <td>0.121</td>\n",
       "      <td>0.176</td>\n",
       "      <td>0.158</td>\n",
       "      <td>0.146</td>\n",
       "    </tr>\n",
       "  </tbody>\n",
       "</table>\n",
       "<p>5 rows × 50 columns</p>\n",
       "</div>"
      ],
      "text/plain": [
       "       LCLid         day   hh_0   hh_1   hh_2   hh_3   hh_4   hh_5   hh_6  \\\n",
       "0  MAC000013  2012-06-22  0.127  0.113  0.076  0.109  0.120  0.096  0.113   \n",
       "1  MAC000013  2012-06-23  0.106  0.135  0.228  0.079  0.109  0.117  0.079   \n",
       "2  MAC000013  2012-06-25  0.099  0.119  0.169  0.136  0.109  0.090  0.132   \n",
       "3  MAC000013  2012-06-26  0.142  0.103  0.117  0.136  0.127  0.129  0.150   \n",
       "4  MAC000013  2012-06-27  0.126  0.128  0.175  0.163  0.119  0.103  0.128   \n",
       "\n",
       "    hh_7  ...  hh_38  hh_39  hh_40  hh_41  hh_42  hh_43  hh_44  hh_45  hh_46  \\\n",
       "0  0.148  ...  0.086  0.154  0.121  0.102  0.131  0.121  0.082  0.096  0.127   \n",
       "1  0.122  ...  0.107  0.113  0.106  0.077  0.119  0.126  0.151  0.135  0.108   \n",
       "2  0.131  ...  0.140  0.135  0.134  0.106  0.131  0.169  0.170  0.141  0.163   \n",
       "3  0.137  ...  0.136  0.136  0.304  0.159  0.126  0.145  0.196  0.158  0.173   \n",
       "4  0.141  ...  0.170  0.144  0.098  0.183  0.316  0.190  0.121  0.176  0.158   \n",
       "\n",
       "   hh_47  \n",
       "0  0.126  \n",
       "1  0.093  \n",
       "2  0.137  \n",
       "3  0.149  \n",
       "4  0.146  \n",
       "\n",
       "[5 rows x 50 columns]"
      ]
     },
     "execution_count": 3,
     "metadata": {},
     "output_type": "execute_result"
    }
   ],
   "source": [
    "# Process AMI Data\n",
    "# The smart meter data is stored at the half-hour level of granularity in series of CSV files. \n",
    "# Here, we iterate over the files and concatenate into a single data frame in 'wide' format\n",
    "\n",
    "ami_files = os.listdir(data_path + \"/hhblock_dataset/hhblock_dataset/\")\n",
    "\n",
    "# Iterate over files using list comprehension\n",
    "df_from_each_file = (pd.read_csv(data_path + \"/hhblock_dataset/hhblock_dataset/\" + f, sep=',') for f in ami_files)\n",
    "\n",
    "df_merged   = pd.concat(df_from_each_file, ignore_index=True)\n",
    "df_merged.head()\n"
   ]
  },
  {
   "cell_type": "code",
   "execution_count": 4,
   "metadata": {
    "ExecuteTime": {
     "end_time": "2021-09-30T23:13:33.085668Z",
     "start_time": "2021-09-30T23:13:33.003012Z"
    }
   },
   "outputs": [
    {
     "data": {
      "text/html": [
       "<div>\n",
       "<style scoped>\n",
       "    .dataframe tbody tr th:only-of-type {\n",
       "        vertical-align: middle;\n",
       "    }\n",
       "\n",
       "    .dataframe tbody tr th {\n",
       "        vertical-align: top;\n",
       "    }\n",
       "\n",
       "    .dataframe thead th {\n",
       "        text-align: right;\n",
       "    }\n",
       "</style>\n",
       "<table border=\"1\" class=\"dataframe\">\n",
       "  <thead>\n",
       "    <tr style=\"text-align: right;\">\n",
       "      <th></th>\n",
       "      <th>visibility</th>\n",
       "      <th>windBearing</th>\n",
       "      <th>temperature</th>\n",
       "      <th>time</th>\n",
       "      <th>dewPoint</th>\n",
       "      <th>pressure</th>\n",
       "      <th>apparentTemperature</th>\n",
       "      <th>windSpeed</th>\n",
       "      <th>precipType</th>\n",
       "      <th>icon</th>\n",
       "      <th>humidity</th>\n",
       "      <th>summary</th>\n",
       "    </tr>\n",
       "  </thead>\n",
       "  <tbody>\n",
       "    <tr>\n",
       "      <th>0</th>\n",
       "      <td>5.97</td>\n",
       "      <td>104</td>\n",
       "      <td>10.24</td>\n",
       "      <td>2011-11-11 00:00:00</td>\n",
       "      <td>8.86</td>\n",
       "      <td>1016.76</td>\n",
       "      <td>10.24</td>\n",
       "      <td>2.77</td>\n",
       "      <td>rain</td>\n",
       "      <td>partly-cloudy-night</td>\n",
       "      <td>0.91</td>\n",
       "      <td>Partly Cloudy</td>\n",
       "    </tr>\n",
       "    <tr>\n",
       "      <th>1</th>\n",
       "      <td>4.88</td>\n",
       "      <td>99</td>\n",
       "      <td>9.76</td>\n",
       "      <td>2011-11-11 01:00:00</td>\n",
       "      <td>8.83</td>\n",
       "      <td>1016.63</td>\n",
       "      <td>8.24</td>\n",
       "      <td>2.95</td>\n",
       "      <td>rain</td>\n",
       "      <td>partly-cloudy-night</td>\n",
       "      <td>0.94</td>\n",
       "      <td>Partly Cloudy</td>\n",
       "    </tr>\n",
       "    <tr>\n",
       "      <th>2</th>\n",
       "      <td>3.70</td>\n",
       "      <td>98</td>\n",
       "      <td>9.46</td>\n",
       "      <td>2011-11-11 02:00:00</td>\n",
       "      <td>8.79</td>\n",
       "      <td>1016.36</td>\n",
       "      <td>7.76</td>\n",
       "      <td>3.17</td>\n",
       "      <td>rain</td>\n",
       "      <td>partly-cloudy-night</td>\n",
       "      <td>0.96</td>\n",
       "      <td>Partly Cloudy</td>\n",
       "    </tr>\n",
       "    <tr>\n",
       "      <th>3</th>\n",
       "      <td>3.12</td>\n",
       "      <td>99</td>\n",
       "      <td>9.23</td>\n",
       "      <td>2011-11-11 03:00:00</td>\n",
       "      <td>8.63</td>\n",
       "      <td>1016.28</td>\n",
       "      <td>7.44</td>\n",
       "      <td>3.25</td>\n",
       "      <td>rain</td>\n",
       "      <td>fog</td>\n",
       "      <td>0.96</td>\n",
       "      <td>Foggy</td>\n",
       "    </tr>\n",
       "    <tr>\n",
       "      <th>4</th>\n",
       "      <td>1.85</td>\n",
       "      <td>111</td>\n",
       "      <td>9.26</td>\n",
       "      <td>2011-11-11 04:00:00</td>\n",
       "      <td>9.21</td>\n",
       "      <td>1015.98</td>\n",
       "      <td>7.24</td>\n",
       "      <td>3.70</td>\n",
       "      <td>rain</td>\n",
       "      <td>fog</td>\n",
       "      <td>1.00</td>\n",
       "      <td>Foggy</td>\n",
       "    </tr>\n",
       "  </tbody>\n",
       "</table>\n",
       "</div>"
      ],
      "text/plain": [
       "   visibility  windBearing  temperature                 time  dewPoint  \\\n",
       "0        5.97          104        10.24  2011-11-11 00:00:00      8.86   \n",
       "1        4.88           99         9.76  2011-11-11 01:00:00      8.83   \n",
       "2        3.70           98         9.46  2011-11-11 02:00:00      8.79   \n",
       "3        3.12           99         9.23  2011-11-11 03:00:00      8.63   \n",
       "4        1.85          111         9.26  2011-11-11 04:00:00      9.21   \n",
       "\n",
       "   pressure  apparentTemperature  windSpeed precipType                 icon  \\\n",
       "0   1016.76                10.24       2.77       rain  partly-cloudy-night   \n",
       "1   1016.63                 8.24       2.95       rain  partly-cloudy-night   \n",
       "2   1016.36                 7.76       3.17       rain  partly-cloudy-night   \n",
       "3   1016.28                 7.44       3.25       rain                  fog   \n",
       "4   1015.98                 7.24       3.70       rain                  fog   \n",
       "\n",
       "   humidity        summary  \n",
       "0      0.91  Partly Cloudy  \n",
       "1      0.94  Partly Cloudy  \n",
       "2      0.96  Partly Cloudy  \n",
       "3      0.96          Foggy  \n",
       "4      1.00          Foggy  "
      ]
     },
     "execution_count": 4,
     "metadata": {},
     "output_type": "execute_result"
    }
   ],
   "source": [
    "# Process Hourly Weather Data\n",
    "wthr = pd.read_csv(data_path + \"/weather_hourly_darksky.csv\")\n",
    "wthr.head()"
   ]
  },
  {
   "cell_type": "code",
   "execution_count": 33,
   "metadata": {
    "ExecuteTime": {
     "end_time": "2021-09-28T19:14:31.455498Z",
     "start_time": "2021-09-28T18:57:49.537232Z"
    }
   },
   "outputs": [
    {
     "data": {
      "text/plain": [
       "<AxesSubplot:xlabel='time', ylabel='temperature'>"
      ]
     },
     "execution_count": 33,
     "metadata": {},
     "output_type": "execute_result"
    },
    {
     "data": {
      "image/png": "[encoded data removed]",
      "text/plain": [
       "<Figure size 1080x576 with 1 Axes>"
      ]
     },
     "metadata": {},
     "output_type": "display_data"
    }
   ],
   "source": [
    "# Visualize Temperature Data\n",
    "import seaborn as sns\n",
    "sns.set(rc = {'figure.figsize':(15,8)})\n",
    "sns.lineplot(data = wthr, x = \"time\", y = \"temperature\")\n"
   ]
  },
  {
   "cell_type": "code",
   "execution_count": 5,
   "metadata": {
    "ExecuteTime": {
     "end_time": "2021-09-29T02:55:49.003196Z",
     "start_time": "2021-09-29T02:47:03.974643Z"
    }
   },
   "outputs": [
    {
     "data": {
      "text/plain": [
       "[<matplotlib.lines.Line2D at 0x7f400181e190>]"
      ]
     },
     "execution_count": 5,
     "metadata": {},
     "output_type": "execute_result"
    },
    {
     "data": {
      "image/png": "[encoded data removed]",
      "text/plain": [
       "<Figure size 1080x576 with 4 Axes>"
      ]
     },
     "metadata": {
      "needs_background": "light"
     },
     "output_type": "display_data"
    }
   ],
   "source": [
    "#sns.set(rc = {'figure.figsize':(8,8)})\n",
    "plt.rcParams[\"figure.figsize\"] = (15, 8)\n",
    "fig, (ax1, ax2, ax3, ax4) = plt.subplots(nrows=4, sharex=True)\n",
    "ax1.plot(wthr.time, wthr.windBearing, \"tab:orange\")\n",
    "ax2.plot(wthr.time, wthr.windSpeed, \"tab:red\")\n",
    "ax3.plot(wthr.time, wthr.humidity, \"tab:green\")\n",
    "ax4.plot(wthr.time, wthr.visibility, \"tab:blue\")\n",
    "#sns.lineplot(data = wthr, x = \"time\", y = \"windBearing\", ax = ax1, ci = None)\n",
    "#sns.lineplot(data = wthr, x = \"time\", y = \"windSpeed\", ax = ax2, ci = None)\n",
    "#sns.lineplot(data = wthr, x = \"time\", y = \"humidity\", ax = ax3, ci = None)\n",
    "#sns.lineplot(data = wthr, x = \"time\", y = \"visibility\", ax = ax4, ci = None)"
   ]
  },
  {
   "cell_type": "code",
   "execution_count": 5,
   "metadata": {
    "ExecuteTime": {
     "end_time": "2021-09-30T23:13:33.129519Z",
     "start_time": "2021-09-30T23:13:33.090279Z"
    }
   },
   "outputs": [
    {
     "data": {
      "text/plain": [
       "ACORN-E    1567\n",
       "ACORN-Q     831\n",
       "ACORN-F     684\n",
       "ACORN-H     455\n",
       "ACORN-L     342\n",
       "ACORN-D     292\n",
       "ACORN-G     205\n",
       "ACORN-K     165\n",
       "ACORN-A     157\n",
       "ACORN-N     152\n",
       "ACORN-C     151\n",
       "ACORN-M     113\n",
       "ACORN-J     112\n",
       "ACORN-P     110\n",
       "ACORN-O     103\n",
       "ACORN-I      51\n",
       "ACORN-U      49\n",
       "ACORN-B      25\n",
       "ACORN-        2\n",
       "Name: Acorn, dtype: int64"
      ]
     },
     "execution_count": 5,
     "metadata": {},
     "output_type": "execute_result"
    }
   ],
   "source": [
    "# Process Household Metadata\n",
    "hh_info = pd.read_csv(data_path + \"/acorn_details.csv\", encoding = 'unicode_escape')\n",
    "hh_info.head()\n",
    "#hh_info['MAIN CATEGORIES'].value_counts()\n",
    "#check = hh_info['REFERENCE'].unique\n",
    "\n",
    "#\n",
    "hh_info = pd.read_csv(data_path + \"/informations_households.csv\")\n",
    "hh_info[\"Acorn\"].value_counts()"
   ]
  },
  {
   "cell_type": "code",
   "execution_count": 6,
   "metadata": {
    "ExecuteTime": {
     "end_time": "2021-09-30T23:13:33.322585Z",
     "start_time": "2021-09-30T23:13:33.134220Z"
    }
   },
   "outputs": [
    {
     "data": {
      "text/plain": [
       "42"
      ]
     },
     "execution_count": 6,
     "metadata": {},
     "output_type": "execute_result"
    }
   ],
   "source": [
    "import gc\n",
    "gc.collect()"
   ]
  },
  {
   "cell_type": "code",
   "execution_count": 7,
   "metadata": {
    "ExecuteTime": {
     "end_time": "2021-09-30T23:13:33.701758Z",
     "start_time": "2021-09-30T23:13:33.337355Z"
    }
   },
   "outputs": [
    {
     "data": {
      "text/plain": [
       "(5560, 1)"
      ]
     },
     "execution_count": 7,
     "metadata": {},
     "output_type": "execute_result"
    }
   ],
   "source": [
    "# Unique Number of Sensor meters\n",
    "ids = pd.DataFrame(df_merged['LCLid'].unique())\n",
    "ids.columns = ['id']\n",
    "ids.shape"
   ]
  },
  {
   "cell_type": "markdown",
   "metadata": {},
   "source": [
    "# Feature Engineering\n",
    "\n",
    "Many characteristics of time series can be useful in forecasting future realizations, and electricity time series is no different. While not technically referred to as \"feature engineering\", statisticians have been characterizing electricity time series for the better part of 50 years. These analysis typically fall under the title of \"load research\" and some common features might be the \"peakiness\" of the time series, and the overall magnitude. We can calcuate these statistics, per time series, and visualize them.\n",
    "\n",
    "Here we use the `multiprocessing` library in Python do so aynchronously."
   ]
  },
  {
   "cell_type": "code",
   "execution_count": 8,
   "metadata": {
    "ExecuteTime": {
     "end_time": "2021-09-30T23:13:35.214619Z",
     "start_time": "2021-09-30T23:13:33.704591Z"
    }
   },
   "outputs": [
    {
     "data": {
      "text/html": [
       "<div>\n",
       "<style scoped>\n",
       "    .dataframe tbody tr th:only-of-type {\n",
       "        vertical-align: middle;\n",
       "    }\n",
       "\n",
       "    .dataframe tbody tr th {\n",
       "        vertical-align: top;\n",
       "    }\n",
       "\n",
       "    .dataframe thead tr th {\n",
       "        text-align: left;\n",
       "    }\n",
       "\n",
       "    .dataframe thead tr:last-of-type th {\n",
       "        text-align: right;\n",
       "    }\n",
       "</style>\n",
       "<table border=\"1\" class=\"dataframe\">\n",
       "  <thead>\n",
       "    <tr>\n",
       "      <th></th>\n",
       "      <th colspan=\"2\" halign=\"left\">y</th>\n",
       "    </tr>\n",
       "    <tr>\n",
       "      <th></th>\n",
       "      <th>max</th>\n",
       "      <th>mean</th>\n",
       "    </tr>\n",
       "    <tr>\n",
       "      <th>unique_id</th>\n",
       "      <th></th>\n",
       "      <th></th>\n",
       "    </tr>\n",
       "  </thead>\n",
       "  <tbody>\n",
       "    <tr>\n",
       "      <th>MAC000057</th>\n",
       "      <td>4.772</td>\n",
       "      <td>0.223660</td>\n",
       "    </tr>\n",
       "    <tr>\n",
       "      <th>MAC000232</th>\n",
       "      <td>0.736</td>\n",
       "      <td>0.052941</td>\n",
       "    </tr>\n",
       "    <tr>\n",
       "      <th>MAC000609</th>\n",
       "      <td>2.258</td>\n",
       "      <td>0.144763</td>\n",
       "    </tr>\n",
       "    <tr>\n",
       "      <th>MAC000949</th>\n",
       "      <td>4.949</td>\n",
       "      <td>0.247584</td>\n",
       "    </tr>\n",
       "    <tr>\n",
       "      <th>MAC000991</th>\n",
       "      <td>1.687</td>\n",
       "      <td>0.101977</td>\n",
       "    </tr>\n",
       "  </tbody>\n",
       "</table>\n",
       "</div>"
      ],
      "text/plain": [
       "               y          \n",
       "             max      mean\n",
       "unique_id                 \n",
       "MAC000057  4.772  0.223660\n",
       "MAC000232  0.736  0.052941\n",
       "MAC000609  2.258  0.144763\n",
       "MAC000949  4.949  0.247584\n",
       "MAC000991  1.687  0.101977"
      ]
     },
     "execution_count": 8,
     "metadata": {},
     "output_type": "execute_result"
    }
   ],
   "source": [
    "def calc_lr_stats(ids, df):\n",
    "    '''function to subset ami data frame, create load research features based on set of ids'''\n",
    "    \n",
    "    # filter df based on ids\n",
    "    df = df.loc[df['LCLid'].isin(ids[\"id\"])]\n",
    "\n",
    "    # pivot wide to long\n",
    "    df = (pd.wide_to_long(df, stubnames = \"hh_\", i = ['day', 'LCLid'], j = \"hh\")\n",
    "        .sort_values([\"day\", \"hh\"])\n",
    "        .reset_index())\n",
    "    \n",
    "    # reassign columns\n",
    "    df.columns = ['ds', 'unique_id', 'hh', 'y']\n",
    "\n",
    "    # drop NAs\n",
    "    df = df[[\"ds\", \"unique_id\", \"y\"]].dropna()\n",
    "    \n",
    "    # calculate features\n",
    "    features = df.groupby([\"unique_id\"]).agg([\"max\", \"mean\"])\n",
    "    \n",
    "    #features = df.head()\n",
    "    return pd.DataFrame(features)\n",
    "\n",
    "ts = calc_lr_stats(ids = ids.sample(11), df = df_merged)\n",
    "ts.head()"
   ]
  },
  {
   "cell_type": "code",
   "execution_count": 29,
   "metadata": {
    "ExecuteTime": {
     "end_time": "2021-09-29T04:24:08.001340Z",
     "start_time": "2021-09-29T04:10:04.703892Z"
    }
   },
   "outputs": [
    {
     "name": "stderr",
     "output_type": "stream",
     "text": [
      "100%|██████████| 6/6 [14:03<00:00, 140.54s/it]\n"
     ]
    }
   ],
   "source": [
    "\n",
    "batch_size = 1000  #chunk row size\n",
    "\n",
    "# Use List Comprehension to create a list of data frame batches\n",
    "list_df = [ids[i:i + batch_size] for i in range(0,ids.shape[0],batch_size)]\n",
    "\n",
    "rs = []\n",
    "\n",
    "for i in tqdm(list_df):\n",
    "    try:\n",
    "        rs.append(calc_lr_stats(i, df = df_merged))\n",
    "    except:\n",
    "        print(\"Failed to generate features\")\n",
    "    \n",
    "    "
   ]
  },
  {
   "cell_type": "code",
   "execution_count": 16,
   "metadata": {
    "ExecuteTime": {
     "end_time": "2021-09-30T23:18:42.819913Z",
     "start_time": "2021-09-30T23:18:42.557170Z"
    }
   },
   "outputs": [],
   "source": [
    "# Using Spark\n",
    "# - reference https://databricks.com/blog/2017/10/30/introducing-vectorized-udfs-for-pyspark.html\n",
    "# - reference https://docs.faculty.ai/how_to/spark/local_spark.html\n",
    "# - referemce https://spark.apache.org/docs/2.4.4/sql-pyspark-pandas-with-arrow.html\n",
    "\n",
    "@pandas_udf(\"max double, mean double, unique_id string\", PandasUDFType.GROUPED_MAP)\n",
    "def calc_lr_stats_py(df):\n",
    "    '''function to subset ami data frame, create load research features based on set of ids'''\n",
    "\n",
    "    # pivot wide to long\n",
    "    df = (pd.wide_to_long(df, stubnames = \"hh_\", i = ['day', 'LCLid'], j = \"hh\")\n",
    "        .sort_values([\"day\", \"hh\"])\n",
    "        .reset_index())\n",
    "    \n",
    "    # reassign columns\n",
    "    df.columns = ['ds', 'unique_id', 'hh', 'y']\n",
    "\n",
    "    # drop NAs\n",
    "    df = df[[\"ds\", \"unique_id\", \"y\"]].dropna()\n",
    "    \n",
    "    # calculate features\n",
    "    features = df.groupby([\"unique_id\"]).agg([\"max\", \"mean\"])\n",
    "    features['unique_id'] = features.index\n",
    "    \n",
    "    #features = df.head()\n",
    "    return pd.DataFrame(features)\n"
   ]
  },
  {
   "cell_type": "code",
   "execution_count": 80,
   "metadata": {
    "ExecuteTime": {
     "end_time": "2021-09-30T05:33:16.413691Z",
     "start_time": "2021-09-30T05:33:16.012164Z"
    }
   },
   "outputs": [
    {
     "data": {
      "text/html": [
       "<div>\n",
       "<style scoped>\n",
       "    .dataframe tbody tr th:only-of-type {\n",
       "        vertical-align: middle;\n",
       "    }\n",
       "\n",
       "    .dataframe tbody tr th {\n",
       "        vertical-align: top;\n",
       "    }\n",
       "\n",
       "    .dataframe thead tr th {\n",
       "        text-align: left;\n",
       "    }\n",
       "\n",
       "    .dataframe thead tr:last-of-type th {\n",
       "        text-align: right;\n",
       "    }\n",
       "</style>\n",
       "<table border=\"1\" class=\"dataframe\">\n",
       "  <thead>\n",
       "    <tr>\n",
       "      <th></th>\n",
       "      <th colspan=\"2\" halign=\"left\">y</th>\n",
       "      <th>unique_id</th>\n",
       "    </tr>\n",
       "    <tr>\n",
       "      <th></th>\n",
       "      <th>max</th>\n",
       "      <th>mean</th>\n",
       "      <th></th>\n",
       "    </tr>\n",
       "    <tr>\n",
       "      <th>unique_id</th>\n",
       "      <th></th>\n",
       "      <th></th>\n",
       "      <th></th>\n",
       "    </tr>\n",
       "  </thead>\n",
       "  <tbody>\n",
       "    <tr>\n",
       "      <th>MAC000037</th>\n",
       "      <td>0.000</td>\n",
       "      <td>0.000000</td>\n",
       "      <td>MAC000037</td>\n",
       "    </tr>\n",
       "    <tr>\n",
       "      <th>MAC000045</th>\n",
       "      <td>2.181</td>\n",
       "      <td>0.384625</td>\n",
       "      <td>MAC000045</td>\n",
       "    </tr>\n",
       "    <tr>\n",
       "      <th>MAC000049</th>\n",
       "      <td>2.335</td>\n",
       "      <td>0.673833</td>\n",
       "      <td>MAC000049</td>\n",
       "    </tr>\n",
       "    <tr>\n",
       "      <th>MAC000078</th>\n",
       "      <td>0.048</td>\n",
       "      <td>0.025521</td>\n",
       "      <td>MAC000078</td>\n",
       "    </tr>\n",
       "    <tr>\n",
       "      <th>MAC000081</th>\n",
       "      <td>1.125</td>\n",
       "      <td>0.247042</td>\n",
       "      <td>MAC000081</td>\n",
       "    </tr>\n",
       "  </tbody>\n",
       "</table>\n",
       "</div>"
      ],
      "text/plain": [
       "               y            unique_id\n",
       "             max      mean           \n",
       "unique_id                            \n",
       "MAC000037  0.000  0.000000  MAC000037\n",
       "MAC000045  2.181  0.384625  MAC000045\n",
       "MAC000049  2.335  0.673833  MAC000049\n",
       "MAC000078  0.048  0.025521  MAC000078\n",
       "MAC000081  1.125  0.247042  MAC000081"
      ]
     },
     "execution_count": 80,
     "metadata": {},
     "output_type": "execute_result"
    }
   ],
   "source": [
    "df = df_merged.sample(100)\n",
    "\n",
    "# pivot wide to long\n",
    "df = (pd.wide_to_long(df, stubnames = \"hh_\", i = ['day', 'LCLid'], j = \"hh\")\n",
    "    .sort_values([\"day\", \"hh\"])\n",
    "    .reset_index())\n",
    "\n",
    "# reassign columns\n",
    "df.columns = ['ds', 'unique_id', 'hh', 'y']\n",
    "\n",
    "# drop NAs\n",
    "df = df[[\"ds\", \"unique_id\", \"y\"]].dropna()\n",
    "\n",
    "# calculate features\n",
    "features = df.groupby([\"unique_id\"]).agg([\"max\", \"mean\"])\n",
    "\n",
    "features['unique_id'] = features.index\n",
    "\n",
    "features.head()"
   ]
  },
  {
   "cell_type": "code",
   "execution_count": 23,
   "metadata": {
    "ExecuteTime": {
     "end_time": "2021-09-30T23:49:53.101409Z",
     "start_time": "2021-09-30T23:49:52.616906Z"
    }
   },
   "outputs": [],
   "source": [
    "from pyspark.sql.functions import pandas_udf, PandasUDFType\n",
    "from pyspark.sql import SparkSession\n",
    "from pyspark.conf import SparkConf\n",
    "import pyspark\n",
    "\n",
    "spark = SparkSession.builder \\\n",
    "         .master(\"local[*]\") \\\n",
    "         .appName(\"energy-forecasting\") \\\n",
    "         .config(\"spark.executor.memory\", \"5g\") \\\n",
    "         .config(\"spark.executor.cores\", 8) \\\n",
    "         .config(\"spark.deploy.defaultCores\", 8) \\\n",
    "         .config(\"spark.driver.memory\", \"5g\") \\\n",
    "         .config(\"spark.sql.execution.arrow.pyspark.enabled\", True) \\\n",
    "         .getOrCreate()\n"
   ]
  },
  {
   "cell_type": "code",
   "execution_count": 22,
   "metadata": {
    "ExecuteTime": {
     "end_time": "2021-09-30T23:49:48.313312Z",
     "start_time": "2021-09-30T23:49:47.921989Z"
    }
   },
   "outputs": [],
   "source": [
    "spark.stop()"
   ]
  },
  {
   "cell_type": "code",
   "execution_count": 31,
   "metadata": {
    "ExecuteTime": {
     "end_time": "2021-10-01T00:10:53.715950Z",
     "start_time": "2021-10-01T00:09:21.424627Z"
    }
   },
   "outputs": [
    {
     "name": "stderr",
     "output_type": "stream",
     "text": [
      "  0%|          | 0/4 [00:00<?, ?it/s]/opt/conda/lib/python3.7/site-packages/pyspark/sql/pandas/group_ops.py:84: UserWarning: It is preferred to use 'applyInPandas' over this API. This API will be deprecated in the future releases. See SPARK-28264 for more details.\n",
      "  \"more details.\", UserWarning)\n",
      " 25%|██▌       | 1/4 [00:41<02:04, 41.42s/it]"
     ]
    },
    {
     "name": "stdout",
     "output_type": "stream",
     "text": [
      "Failed to generate features\n"
     ]
    },
    {
     "name": "stderr",
     "output_type": "stream",
     "text": [
      "\r",
      " 50%|█████     | 2/4 [01:27<01:25, 42.76s/it]"
     ]
    },
    {
     "name": "stdout",
     "output_type": "stream",
     "text": [
      "Failed to generate features\n"
     ]
    },
    {
     "name": "stderr",
     "output_type": "stream",
     "text": [
      "\r",
      " 75%|███████▌  | 3/4 [01:31<00:31, 31.13s/it]"
     ]
    },
    {
     "name": "stdout",
     "output_type": "stream",
     "text": [
      "Failed to generate features\n"
     ]
    },
    {
     "name": "stderr",
     "output_type": "stream",
     "text": [
      "----------------------------------------\n",
      "Exception happened during processing of request from ('127.0.0.1', 59698)\n",
      "ERROR:root:Exception while sending command.\n",
      "Traceback (most recent call last):\n",
      "  File \"/opt/conda/lib/python3.7/site-packages/py4j/java_gateway.py\", line 1207, in send_command\n",
      "    raise Py4JNetworkError(\"Answer from Java side is empty\")\n",
      "py4j.protocol.Py4JNetworkError: Answer from Java side is empty\n",
      "\n",
      "During handling of the above exception, another exception occurred:\n",
      "\n",
      "Traceback (most recent call last):\n",
      "  File \"/opt/conda/lib/python3.7/site-packages/py4j/java_gateway.py\", line 1033, in send_command\n",
      "    response = connection.send_command(command)\n",
      "  File \"/opt/conda/lib/python3.7/site-packages/py4j/java_gateway.py\", line 1212, in send_command\n",
      "    \"Error while receiving\", e, proto.ERROR_ON_RECEIVE)\n",
      "py4j.protocol.Py4JNetworkError: Error while receiving\n",
      "100%|██████████| 4/4 [01:32<00:00, 22.08s/it]Traceback (most recent call last):\n",
      "  File \"/opt/conda/lib/python3.7/socketserver.py\", line 316, in _handle_request_noblock\n",
      "    self.process_request(request, client_address)\n",
      "  File \"/opt/conda/lib/python3.7/socketserver.py\", line 347, in process_request\n",
      "    self.finish_request(request, client_address)\n",
      "  File \"/opt/conda/lib/python3.7/socketserver.py\", line 360, in finish_request\n",
      "    self.RequestHandlerClass(request, client_address, self)\n",
      "  File \"/opt/conda/lib/python3.7/socketserver.py\", line 720, in __init__\n",
      "    self.handle()\n",
      "  File \"/opt/conda/lib/python3.7/site-packages/pyspark/accumulators.py\", line 262, in handle\n",
      "    poll(accum_updates)\n",
      "  File \"/opt/conda/lib/python3.7/site-packages/pyspark/accumulators.py\", line 235, in poll\n",
      "    if func():\n",
      "  File \"/opt/conda/lib/python3.7/site-packages/pyspark/accumulators.py\", line 239, in accum_updates\n",
      "    num_updates = read_int(self.rfile)\n",
      "  File \"/opt/conda/lib/python3.7/site-packages/pyspark/serializers.py\", line 564, in read_int\n",
      "    raise EOFError\n",
      "EOFError\n",
      "----------------------------------------\n",
      "100%|██████████| 4/4 [01:32<00:00, 23.07s/it]"
     ]
    },
    {
     "name": "stdout",
     "output_type": "stream",
     "text": [
      "Failed to generate features\n"
     ]
    },
    {
     "name": "stderr",
     "output_type": "stream",
     "text": [
      "\n"
     ]
    }
   ],
   "source": [
    "### Use Batch Processing and Pandas UDF in Spark to create Load Research Statistics ###\n",
    "\n",
    "gc.collect()\n",
    "batch_size = 1500  #chunk row size\n",
    "\n",
    "# Use List Comprehension to create a list of data frame batches\n",
    "list_df = [ids[i:i + batch_size] for i in range(0,ids.shape[0],batch_size)]\n",
    "\n",
    "rs = []\n",
    "\n",
    "for i in tqdm(list_df):\n",
    "    try:\n",
    "        local_df = df_merged.loc[df_merged['LCLid'].isin(i[\"id\"])]\n",
    "        spark_df = spark.createDataFrame(local_df)\n",
    "        rs_df = spark_df.groupby('LCLid').apply(calc_lr_stats_py).collect().toPandas()\n",
    "        rs.append(rs_df)\n",
    "\n",
    "    except:\n",
    "        print(\"Failed to generate features\")\n",
    "    \n",
    "rs = pd.concat(rs)\n",
    "    "
   ]
  },
  {
   "cell_type": "code",
   "execution_count": 30,
   "metadata": {
    "ExecuteTime": {
     "end_time": "2021-10-01T00:02:57.585005Z",
     "start_time": "2021-10-01T00:02:57.569674Z"
    }
   },
   "outputs": [
    {
     "data": {
      "text/html": [
       "<div>\n",
       "<style scoped>\n",
       "    .dataframe tbody tr th:only-of-type {\n",
       "        vertical-align: middle;\n",
       "    }\n",
       "\n",
       "    .dataframe tbody tr th {\n",
       "        vertical-align: top;\n",
       "    }\n",
       "\n",
       "    .dataframe thead th {\n",
       "        text-align: right;\n",
       "    }\n",
       "</style>\n",
       "<table border=\"1\" class=\"dataframe\">\n",
       "  <thead>\n",
       "    <tr style=\"text-align: right;\">\n",
       "      <th></th>\n",
       "      <th>0</th>\n",
       "      <th>1</th>\n",
       "      <th>2</th>\n",
       "    </tr>\n",
       "  </thead>\n",
       "  <tbody>\n",
       "    <tr>\n",
       "      <th>0</th>\n",
       "      <td>2.455</td>\n",
       "      <td>0.299435</td>\n",
       "      <td>MAC000925</td>\n",
       "    </tr>\n",
       "    <tr>\n",
       "      <th>1</th>\n",
       "      <td>2.489</td>\n",
       "      <td>0.163742</td>\n",
       "      <td>MAC000976</td>\n",
       "    </tr>\n",
       "    <tr>\n",
       "      <th>2</th>\n",
       "      <td>2.847</td>\n",
       "      <td>0.167852</td>\n",
       "      <td>MAC001761</td>\n",
       "    </tr>\n",
       "    <tr>\n",
       "      <th>3</th>\n",
       "      <td>1.315</td>\n",
       "      <td>0.095562</td>\n",
       "      <td>MAC004358</td>\n",
       "    </tr>\n",
       "    <tr>\n",
       "      <th>4</th>\n",
       "      <td>6.110</td>\n",
       "      <td>0.370343</td>\n",
       "      <td>MAC004897</td>\n",
       "    </tr>\n",
       "  </tbody>\n",
       "</table>\n",
       "</div>"
      ],
      "text/plain": [
       "       0         1          2\n",
       "0  2.455  0.299435  MAC000925\n",
       "1  2.489  0.163742  MAC000976\n",
       "2  2.847  0.167852  MAC001761\n",
       "3  1.315  0.095562  MAC004358\n",
       "4  6.110  0.370343  MAC004897"
      ]
     },
     "execution_count": 30,
     "metadata": {},
     "output_type": "execute_result"
    }
   ],
   "source": [
    "check = pd.concat(rs)\n",
    "check.head()"
   ]
  },
  {
   "cell_type": "code",
   "execution_count": null,
   "metadata": {},
   "outputs": [],
   "source": [
    "dflr.columns = [\"max\", \"mean\"]\n",
    "\n",
    "from sklearn.cluster import KMeans\n",
    "\n",
    "# K-means clustering\n",
    "dflr[\"cluster\"] = KMeans(n_clusters=3, random_state=0).fit_predict(dflr)\n",
    "dflr[\"cluster\"] = dflr[\"cluster\"].astype(str)\n",
    "dflr[\"cluster\"].value_counts()\n",
    "\n",
    "sns.scatterplot(data=dflr, x=\"mean\", y=\"max\", hue = dflr.cluster.tolist())\n"
   ]
  },
  {
   "cell_type": "markdown",
   "metadata": {},
   "source": [
    "## Time Series Features\n",
    "\n",
    "In addition to classic load research statistics, we can also borrow from other domains that analyze time series data for forecasting purposes. There has been significant research recently into time-series features, and an excellent R package for generating said features is [tsfeatures](https://cran.r-project.org/web/packages/tsfeatures/vignettes/tsfeatures.html). Here we use a [Python implementation / API](https://github.com/Nixtla/tsfeatures) to the R package "
   ]
  },
  {
   "cell_type": "code",
   "execution_count": null,
   "metadata": {},
   "outputs": [],
   "source": [
    "def calc_features(ids, df):\n",
    "    \n",
    "    # filter df based on ids\n",
    "    df = df.loc[df['LCLid'].isin(ids[\"id\"])]\n",
    "\n",
    "    # pivot wide to long\n",
    "    df = (pd.wide_to_long(df, stubnames = \"hh_\", i = ['day', 'LCLid'], j = \"hh\")\n",
    "        .sort_values([\"day\", \"hh\"])\n",
    "        .reset_index())\n",
    "    \n",
    "    # import time lookup\n",
    "    #lookup = pd.read_csv(data_path + \"/time-lookup.csv\", sep = \",\")\n",
    "\n",
    "    df.columns = ['ds', 'unique_id', 'hh', 'y']\n",
    "\n",
    "    df = df[[\"ds\", \"unique_id\", \"y\"]].dropna()\n",
    "    \n",
    "    # calculate ts_features\n",
    "    features = tsfeatures(df, freq = 1, features = [stl_features, acf_features, entropy])\n",
    "    #features = df.head()\n",
    "    return pd.DataFrame(features).drop([\"hw_alpha\", \"hw_beta\", \"hw_gamma\", \"nperiods\", \"beta\"], axis = 1)\n",
    "\n",
    "check = calc_features(ids = ids.sample(11), df = df_merged)\n",
    "check.head()"
   ]
  },
  {
   "cell_type": "code",
   "execution_count": null,
   "metadata": {},
   "outputs": [],
   "source": [
    "from tqdm import tqdm\n",
    "\n",
    "batch_size = 10  #chunk row size\n",
    "\n",
    "# Use List Comprehension to create a list of data frame batches\n",
    "list_df = [ids[i:i + batch_size] for i in range(0,ids.shape[0],batch_size)]\n",
    "\n",
    "rs = []\n",
    "\n",
    "for i in tqdm(list_df):\n",
    "    print(i)\n",
    "    try:\n",
    "        rs.append(calc_features(i, df = df_merged))\n",
    "    except:\n",
    "        print(\"Failed to generate features\")\n",
    "    \n",
    "    "
   ]
  },
  {
   "cell_type": "markdown",
   "metadata": {},
   "source": [
    "# Energy Forecasting"
   ]
  },
  {
   "cell_type": "code",
   "execution_count": null,
   "metadata": {},
   "outputs": [],
   "source": [
    "# - local models\n",
    "# - local models with clusters\n",
    "# - local "
   ]
  }
 ],
 "metadata": {
  "kernelspec": {
   "display_name": "datastar",
   "language": "python",
   "name": "datastar"
  },
  "language_info": {
   "codemirror_mode": {
    "name": "ipython",
    "version": 3
   },
   "file_extension": ".py",
   "mimetype": "text/x-python",
   "name": "python",
   "nbconvert_exporter": "python",
   "pygments_lexer": "ipython3",
   "version": "3.7.7"
  },
  "toc": {
   "base_numbering": 1,
   "nav_menu": {},
   "number_sections": false,
   "sideBar": true,
   "skip_h1_title": false,
   "title_cell": "Table of Contents",
   "title_sidebar": "Contents",
   "toc_cell": false,
   "toc_position": {},
   "toc_section_display": true,
   "toc_window_display": false
  }
 },
 "nbformat": 4,
 "nbformat_minor": 4
}
